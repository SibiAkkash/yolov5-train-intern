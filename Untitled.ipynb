{
 "cells": [
  {
   "cell_type": "code",
   "execution_count": 1,
   "id": "7d6c7180",
   "metadata": {},
   "outputs": [],
   "source": [
    "import cv2"
   ]
  },
  {
   "cell_type": "code",
   "execution_count": 2,
   "id": "3dc73e37",
   "metadata": {},
   "outputs": [
    {
     "data": {
      "text/plain": [
       "['WINDOW_AUTOSIZE',\n",
       " 'WINDOW_FREERATIO',\n",
       " 'WINDOW_FULLSCREEN',\n",
       " 'WINDOW_GUI_EXPANDED',\n",
       " 'WINDOW_GUI_NORMAL',\n",
       " 'WINDOW_KEEPRATIO',\n",
       " 'WINDOW_NORMAL',\n",
       " 'WINDOW_OPENGL']"
      ]
     },
     "execution_count": 2,
     "metadata": {},
     "output_type": "execute_result"
    }
   ],
   "source": [
    "[i for i in list(cv2.__dict__.keys()) if i[:6] == 'WINDOW']"
   ]
  },
  {
   "cell_type": "code",
   "execution_count": 3,
   "id": "b081be00",
   "metadata": {},
   "outputs": [],
   "source": [
    "img = cv2.imread(\"../yolov5/experiments/scooter-ds/images/live_0001.jpg\")"
   ]
  },
  {
   "cell_type": "code",
   "execution_count": 4,
   "id": "a15af3fc",
   "metadata": {},
   "outputs": [],
   "source": [
    "height, width, _ = img.shape"
   ]
  },
  {
   "cell_type": "code",
   "execution_count": 5,
   "id": "9f2bad7f",
   "metadata": {},
   "outputs": [],
   "source": [
    "?cv2.resizeWindow"
   ]
  },
  {
   "cell_type": "code",
   "execution_count": 8,
   "id": "d63bbb41",
   "metadata": {},
   "outputs": [],
   "source": [
    "cv2.namedWindow(\"img\", cv2.WINDOW_GUI_NORMAL)\n",
    "cv2.resizeWindow(\"img\", width, height)\n",
    "cv2.imshow(\"img\", img)\n",
    "cv2.waitKey(0)\n",
    "cv2.destroyAllWindows()"
   ]
  },
  {
   "cell_type": "code",
   "execution_count": 27,
   "id": "88daab7f",
   "metadata": {},
   "outputs": [],
   "source": []
  },
  {
   "cell_type": "code",
   "execution_count": null,
   "id": "fe1e491d",
   "metadata": {},
   "outputs": [],
   "source": []
  }
 ],
 "metadata": {
  "kernelspec": {
   "display_name": "Python 3 (ipykernel)",
   "language": "python",
   "name": "python3"
  },
  "language_info": {
   "codemirror_mode": {
    "name": "ipython",
    "version": 3
   },
   "file_extension": ".py",
   "mimetype": "text/x-python",
   "name": "python",
   "nbconvert_exporter": "python",
   "pygments_lexer": "ipython3",
   "version": "3.9.7"
  }
 },
 "nbformat": 4,
 "nbformat_minor": 5
}
